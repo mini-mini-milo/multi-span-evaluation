{
 "cells": [
  {
   "cell_type": "code",
   "execution_count": 1,
   "metadata": {},
   "outputs": [],
   "source": []
  },
  {
   "cell_type": "code",
   "execution_count": 2,
   "metadata": {},
   "outputs": [],
   "source": [
    "from transformers import pipeline\n"
   ]
  },
  {
   "cell_type": "code",
   "execution_count": 3,
   "metadata": {},
   "outputs": [],
   "source": [
    "qa_pipeline = pipeline(task=\"question-answering\", \n",
    "                       model='twmkn9/albert-base-v2-squad2', \n",
    "                       tokenizer='twmkn9/albert-base-v2-squad2',\n",
    "                       framework='pt')"
   ]
  },
  {
   "cell_type": "code",
   "execution_count": 4,
   "metadata": {},
   "outputs": [],
   "source": [
    "output = qa_pipeline(context=\"I am a company\", question=\"When is the bill due?\", handle_impossible_answer=True)\n"
   ]
  },
  {
   "cell_type": "code",
   "execution_count": 5,
   "metadata": {},
   "outputs": [
    {
     "name": "stdout",
     "output_type": "stream",
     "text": [
      "{'score': 0.999964714050293, 'start': 0, 'end': 0, 'answer': ''}\n"
     ]
    }
   ],
   "source": [
    "print(output)"
   ]
  },
  {
   "cell_type": "code",
   "execution_count": null,
   "metadata": {},
   "outputs": [],
   "source": [
    "def get_answers(sorted_i_j, tokens, k):\n",
    "    counter = 0\n",
    "    answers_indices = [] # i, j pairs of answers\n",
    "    answers = [] # string answers \n",
    "    while len(answers_indices) < k and counter < len(sorted_i_j):\n",
    "        pair = sorted_i_j[counter]\n",
    "        if pair[1] >= pair[0]: #end token after start token\n",
    "            if counter == 0: # first i,j\n",
    "                answer = tokens[pair[0]] #first token (i)\n",
    "                for i in range(pair[0] + 1, pair[1] + 1):\n",
    "                    if tokens[i][0:1] != '▁':\n",
    "                        answer += tokens[i]\n",
    "                    else:\n",
    "                        answer += ' ' + tokens[i]\n",
    "                answers_indices.append(sorted_i_j[counter])\n",
    "                answers.append(answer)\n",
    "            elif (pair[0] >= sorted_i_j[counter-1][1]) or (sorted_i_j[counter-1][0] >= pair[1]):\n",
    "                # ^start token of current span is after end token of previous span; end token of current span is before start of prev\n",
    "                answer = tokens[pair[0]]\n",
    "                for i in range(pair[0] + 1, pair[1] + 1):\n",
    "                    if tokens[i][0:1] != '▁':\n",
    "                        answer += tokens[i]\n",
    "                    else:\n",
    "                        answer += ' ' + tokens[i]\n",
    "                answers_indices.append(sorted_i_j[counter])\n",
    "                answers.append(answer)\n",
    "        counter += 1\n",
    "    if len(answers_indices) < k:\n",
    "        while len(answers_indices) < k:\n",
    "            answers_indices.append((-1, -1))\n",
    "    for i in answers_indices:\n",
    "        if i == (-1, -1):\n",
    "            answers.append('')\n",
    "    return answers"
   ]
  },
  {
   "cell_type": "code",
   "execution_count": null,
   "metadata": {},
   "outputs": [],
   "source": [
    "def get_score_dict(start_scores, end_scores):\n",
    "    '''\n",
    "    i = start score index\n",
    "    j = end score index\n",
    "    score = sum of start_scores[i] and end_scores[j]\n",
    "    '''\n",
    "    start_scores_copy = start_scores.copy()\n",
    "    end_scores_copy = end_scores.copy()\n",
    "    i_j_scores = {}\n",
    "    for x in range(len(start_scores)):\n",
    "        score = 0\n",
    "        i = np.argmax(start_scores_copy)\n",
    "        score += start_scores_copy[i]\n",
    "        start_scores_copy[i] = 0\n",
    "        j = np.argmax(end_scores_copy)\n",
    "        score += end_scores_copy[j]\n",
    "        end_scores_copy[j] = 0\n",
    "        i_j_scores[(i, j)] = score\n",
    "    return i_j_scores"
   ]
  }
 ],
 "metadata": {
  "kernelspec": {
   "display_name": "Python 3",
   "language": "python",
   "name": "python3"
  },
  "language_info": {
   "codemirror_mode": {
    "name": "ipython",
    "version": 3
   },
   "file_extension": ".py",
   "mimetype": "text/x-python",
   "name": "python",
   "nbconvert_exporter": "python",
   "pygments_lexer": "ipython3",
   "version": "3.7.3"
  }
 },
 "nbformat": 4,
 "nbformat_minor": 4
}
