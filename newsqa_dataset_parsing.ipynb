{
 "cells": [
  {
   "cell_type": "code",
   "execution_count": 1,
   "metadata": {},
   "outputs": [],
   "source": [
    "import json\n",
    "\n",
    "def newsqa_parser(filename):\n",
    "    '''\n",
    "    \n",
    "    Parameters\n",
    "    ----------\n",
    "    filename : dataset file to be parsed (JSON)\n",
    "\n",
    "    Returns\n",
    "    -------\n",
    "    total_data: list of question/passage/answers triplets (dict)\n",
    "\n",
    "    '''\n",
    "    data = []\n",
    "    with open(filename) as f:\n",
    "        data = json.load(f)\n",
    "    \n",
    "    total_data = []\n",
    "\n",
    "    \n",
    "    for index in range(len(data['data'])):\n",
    "        for question in data['data'][index]['questions']:\n",
    "            q_a = {}\n",
    "            if 'validatedAnswers' in question and len(question['validatedAnswers']) > 1:\n",
    "                q_a['question'] = question['q']\n",
    "                q_a['passage'] = data['data'][index]['text']\n",
    "                answer_list = []\n",
    "                for answer in question['validatedAnswers']:\n",
    "                    if ('badQuestion' and 'noAnswer' in answer) and ('noAnswer' not in answer_list):\n",
    "                        answer_list.append('noAnswer') #check drop for empty answer\n",
    "                    else:\n",
    "                        if 's' in answer:\n",
    "                            answer_list.append(data['data'][index]['text'][answer['s']:answer['e']-1])\n",
    "                q_a['answers'] = answer_list\n",
    "                total_data.append(q_a)\n",
    "                \n",
    "    return total_data\n",
    "                \n",
    "#data --> data (list of dicts) --> questions (list of dicts) --> q (question, str), validatedAnswers (list of dicts) --> s, e (start & end index)"
   ]
  },
  {
   "cell_type": "code",
   "execution_count": 2,
   "metadata": {},
   "outputs": [],
   "source": [
    "#print(newsqa_parser('combined-newsqa-data-v1.json')[0])\n",
    "#{'question': 'What was the amount of children murdered?', \n",
    "# 'passage': 'NEW DELHI, India (CNN) -- A high court in northern India on Friday acquitted a wealthy businessman facing the death sentence for the killing of a teen in a case dubbed \"the house of horrors.\"\\n\\n\\n\\nMoninder Singh Pandher was sentenced to death by a lower court in February.\\n\\n\\n\\nThe teen was one of 19 victims -- children and young women -- in one of the most gruesome serial killings in India in recent years.\\n\\n\\n\\nThe Allahabad high court has acquitted Moninder Singh Pandher, his lawyer Sikandar B. Kochar told CNN.\\n\\n\\n\\nPandher and his domestic employee Surinder Koli were sentenced to death in February by a lower court for the rape and murder of the 14-year-old.\\n\\n\\n\\nThe high court upheld Koli\\'s death sentence, Kochar said.\\n\\n\\n\\nThe two were arrested two years ago after body parts packed in plastic bags were found near their home in Noida, a New Delhi suburb. Their home was later dubbed a \"house of horrors\" by the Indian media.\\n\\n\\n\\nPandher was not named a main suspect by investigators initially, but was summoned as co-accused during the trial, Kochar said.\\n\\n\\n\\nKochar said his client was in Australia when the teen was raped and killed.\\n\\n\\n\\nPandher faces trial in the remaining 18 killings and could remain in custody, the attorney said.', \n",
    "# 'answers': ['noAnswer', '19']}"
   ]
  },
  {
   "cell_type": "code",
   "execution_count": null,
   "metadata": {},
   "outputs": [],
   "source": []
  }
 ],
 "metadata": {
  "kernelspec": {
   "display_name": "Python 3",
   "language": "python",
   "name": "python3"
  },
  "language_info": {
   "codemirror_mode": {
    "name": "ipython",
    "version": 3
   },
   "file_extension": ".py",
   "mimetype": "text/x-python",
   "name": "python",
   "nbconvert_exporter": "python",
   "pygments_lexer": "ipython3",
   "version": "3.7.3"
  }
 },
 "nbformat": 4,
 "nbformat_minor": 4
}
