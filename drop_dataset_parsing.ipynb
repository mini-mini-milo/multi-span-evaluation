{
 "cells": [
  {
   "cell_type": "code",
   "execution_count": 1,
   "metadata": {},
   "outputs": [],
   "source": [
    "import json\n",
    "\n",
    "def drop_parser(filename):\n",
    "    '''\n",
    "\n",
    "    Parameters\n",
    "    ----------\n",
    "    filename : dataset file to be parsed (JSON)\n",
    "\n",
    "    Returns\n",
    "    -------\n",
    "    total_data : list of question/passage/answers triplets (dict)\n",
    "\n",
    "    '''\n",
    "    data = []\n",
    "    with open(filename) as f:\n",
    "        data = json.load(f)\n",
    "        \n",
    "    total_data = []\n",
    "\n",
    "    for section in data:\n",
    "        for key in data[section]['qa_pairs']:\n",
    "            q_a = {}\n",
    "            if len(key['answer']['spans']) > 1:\n",
    "                q_a['question'] = key['question']\n",
    "                q_a['passage'] = data[section]['passage']\n",
    "                q_a['answers'] = key['answer']['spans']\n",
    "                total_data.append(q_a)\n",
    "    return total_data\n",
    "              \n",
    "    \n",
    "# sample from data['history_3692']['qa_pairs']:\n",
    "# {'question': 'What two years had the lowest ridership?', \n",
    "#   'answer': {'number': '', 'date': {'day': '', 'month': '', 'year': ''}, 'spans': ['2008', '1998']}\n",
    "# }\n",
    "    \n",
    "\n",
    "# data (dict) -> section (dict) -> qa_pairs (list of dicts) -> answer (dict) -> spans (list)\n",
    "# data (dict) -> section (dict) -> passage (str)\n"
   ]
  },
  {
   "cell_type": "code",
   "execution_count": 2,
   "metadata": {},
   "outputs": [],
   "source": [
    "#print(drop_parser('drop_dataset_dev.json')[0])\n",
    "#{'question': 'Which new peso notes were the highest created by 1944?', \n",
    "# 'passage': 'The first issue in 1942 consisted of denominations of 1, 5, 10 and 50 centavos and 1, 5, and 10 Pesos. The next year brought \"replacement notes\" of the 1, 5 and 10 Pesos while 1944 ushered in a 100 Peso note and soon after an inflationary 500 Pesos note. In 1945, the Japanese issued a 1,000 Pesos note. This set of new money, which was printed even before the war, became known in the Philippines as Mickey Mouse money due to its very low value caused by severe inflation. Anti-Japanese newspapers portrayed stories of going to the market laden with suitcases or \"bayong\" (native bags made of woven coconut or Corypha leaf strips) overflowing with the Japanese-issued bills. In 1944, a box of matches cost more than 100 Mickey Mouse pesos. In 1945, a kilogram of camote cost around 1000 Mickey Mouse pesos. Inflation plagued the country with the devaluation of the Japanese money, evidenced by a 60% inflation experienced in January 1944.', \n",
    "# 'answers': ['100 Peso note', '500 Pesos note']}"
   ]
  },
  {
   "cell_type": "code",
   "execution_count": 3,
   "metadata": {},
   "outputs": [],
   "source": [
    "#print(drop_parser('drop_dataset_train.json')[0])\n",
    "#{'question': 'Which players scored exactly 8-yard touchdowns?', \n",
    "# 'passage': \"Trying to snap a two-game skid, the Bills flew to Gillette Stadium for a Week 3 divisional fight with the New England Patriots.  In the first quarter, QB J. P. Losman was immediately injured on the first offensive play of the game.  He would finish the series, but ended up on the bench for the rest of the game.  After New England took the lead with kicker Stephen Gostkowski's 24-yard field goal, rookie QB Trent Edwards played the rest of the game for Buffalo.  The Bills would get their only score of the game as RB Marshawn Lynch got an 8-yard TD run, and a Rian Lindell extra point put the Bills ahead surprisingly 7-3.  However, in the second quarter, the Patriots were able to open up their running game when Bills rookie standout Paul Posluszny was lost due to a broken arm. This left passing lanes open, and for the rest of the game, the Patriots dominated. QB Tom Brady's 8-yard TD pass to TE Benjamin Watson and a 3-yard TD pass to WR Randy Moss made it 17-7 at the half.  In the third quarter, New England continued its conquest with Brady's 4-yard TD pass to WR Jabar Gaffney and RB Sammy Morris' 4-yard TD run.  In the fourth quarter, the Patriots ended the day with Brady and Moss hooking up with each other again on a 45-yard TD pass.\", \n",
    "# 'answers': ['Marshawn Lynch', 'Benjamin Watson']}"
   ]
  },
  {
   "cell_type": "code",
   "execution_count": null,
   "metadata": {},
   "outputs": [],
   "source": []
  }
 ],
 "metadata": {
  "kernelspec": {
   "display_name": "Python 3",
   "language": "python",
   "name": "python3"
  },
  "language_info": {
   "codemirror_mode": {
    "name": "ipython",
    "version": 3
   },
   "file_extension": ".py",
   "mimetype": "text/x-python",
   "name": "python",
   "nbconvert_exporter": "python",
   "pygments_lexer": "ipython3",
   "version": "3.7.3"
  }
 },
 "nbformat": 4,
 "nbformat_minor": 4
}
