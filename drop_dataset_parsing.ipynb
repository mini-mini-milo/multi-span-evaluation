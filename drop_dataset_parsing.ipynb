{
 "cells": [
  {
   "cell_type": "code",
   "execution_count": 1,
   "metadata": {},
   "outputs": [],
   "source": [
    "import json\n",
    "\n",
    "def drop_parser(filename):\n",
    "    \n",
    "    data = []\n",
    "    with open(filename) as f:\n",
    "        data = json.load(f)\n",
    "        \n",
    "    total_data = []\n",
    "\n",
    "    for section in data:\n",
    "        for key in data[section]['qa_pairs']:\n",
    "            q_a = {}\n",
    "            if len(key['answer']['spans']) > 1:\n",
    "                q_a['question'] = key['question']\n",
    "                q_a['passage'] = data[section]['passage']\n",
    "                q_a['answers'] = key['answer']['spans']\n",
    "                total_data.append(q_a)\n",
    "    return total_data\n",
    "              \n",
    "\n",
    "    \n",
    "# sample from data['history_3692']['qa_pairs']:\n",
    "# {'question': 'What two years had the lowest ridership?', \n",
    "#   'answer': {'number': '', 'date': {'day': '', 'month': '', 'year': ''}, 'spans': ['2008', '1998']},  \n",
    "#   'validated_answers': [{'number': '', 'date': {'day': '', 'month': '', 'year': ''}, 'spans': ['2010', '1998']}, {'number': '', 'date': {'day': '', 'month': '', 'year': ''}, 'spans': ['2008', '1998']}]\n",
    "# }\n",
    "    \n",
    "\n",
    "# data (dict) -> section (dict) -> qa_pairs (list of dicts) -> answer (dict) -> spans (list)\n",
    "# data (dict) -> section (dict) -> passage (str)\n"
   ]
  },
  {
   "cell_type": "code",
   "execution_count": null,
   "metadata": {},
   "outputs": [],
   "source": []
  }
 ],
 "metadata": {
  "kernelspec": {
   "display_name": "Python 3",
   "language": "python",
   "name": "python3"
  },
  "language_info": {
   "codemirror_mode": {
    "name": "ipython",
    "version": 3
   },
   "file_extension": ".py",
   "mimetype": "text/x-python",
   "name": "python",
   "nbconvert_exporter": "python",
   "pygments_lexer": "ipython3",
   "version": "3.7.6"
  }
 },
 "nbformat": 4,
 "nbformat_minor": 4
}
